{
 "cells": [
  {
   "cell_type": "code",
   "execution_count": 60,
   "metadata": {},
   "outputs": [
    {
     "name": "stdout",
     "output_type": "stream",
     "text": [
      "Cамый умный Thanos!\n"
     ]
    }
   ],
   "source": [
    "import requests\n",
    "\n",
    "\n",
    "url = \"https://www.superheroapi.com/api\"\n",
    "method = \"/search/{}\"\n",
    "token = \"/2619421814940190\"\n",
    "\n",
    "heros = ['Hulk', 'Captain America', 'Thanos']\n",
    "res_list = []\n",
    "rang_list = []\n",
    "\n",
    "\n",
    "for name in heros:\n",
    "    res = requests.get(\"\".join([url,token,method.format(name)]))\n",
    "    res_list.extend(res.json()[\"results\"])\n",
    "\n",
    "for i in res_list:\n",
    "    name = i['name']\n",
    "    intel = int(i['powerstats']['intelligence'])\n",
    "    if name in heros:\n",
    "        rang_list.append((name, intel))\n",
    "\n",
    "rang_list = (sorted(rang_list, key=lambda p: p[1]))\n",
    "\n",
    "print(f\"Cамый умный {rang_list[-1][0]}!\")"
   ]
  },
  {
   "cell_type": "code",
   "execution_count": 17,
   "metadata": {},
   "outputs": [
    {
     "name": "stdout",
     "output_type": "stream",
     "text": [
      "Успешно!\n"
     ]
    }
   ],
   "source": [
    "from urllib import response\n",
    "import requests\n",
    "from pathlib import Path\n",
    "\n",
    "\n",
    "TOKEN = ''\n",
    "\n",
    "class YandexDisk:\n",
    "    def __init__(self, token):\n",
    "        self.token = token\n",
    "        self.url = 'https://cloud-api.yandex.net/v1/disk'\n",
    "        self.headers = {'Content-Type': 'application/json', 'Authorization': f'OAuth {self.token}'}\n",
    "\n",
    "    def get_files_list(self):\n",
    "        files_metod = self.url + '/resources/files'\n",
    "        response = requests.get(files_metod, headers=self.headers)\n",
    "        return response.json()\n",
    "\n",
    "    def _get_upload_link(self, disk_file_path):\n",
    "        \"\"\"Метод получает ссылку на загрузку\"\"\"\n",
    "        upload_url = self.url + '/resources/upload'\n",
    "        params = {'path': disk_file_path, 'overwrite': 'true'}\n",
    "        response = requests.get(upload_url, headers=self.headers, params=params).json()\n",
    "        href = response.get('href', False)\n",
    "        if href:\n",
    "            return href\n",
    "        else:\n",
    "            raise RuntimeError(f'Ошибка получения ссылки на загрузку {response}')\n",
    "\n",
    "    def upload(self, local_files_path, disk_file_path):\n",
    "        \"\"\"Метод загружает файлы по списку file_list на яндекс диск\"\"\"\n",
    "        upload_url = self._get_upload_link(disk_file_path)\n",
    "        with open(local_files_path, 'rb') as f:\n",
    "            response = requests.put(upload_url, data=f)\n",
    "            response.raise_for_status()\n",
    "            if response.status_code == 201:\n",
    "                print('Успешно!')\n",
    "\n",
    "\n",
    "\n",
    "if __name__ == '__main__':\n",
    "    ya = YandexDisk(token=TOKEN)\n",
    "    local_files_path = Path('C:/Users/HOME/Desktop/Untitled-1.py')\n",
    "    disk_file_path = local_files_path.name\n",
    "\n",
    "    ya.upload(local_files_path, disk_file_path)\n"
   ]
  },
  {
   "cell_type": "code",
   "execution_count": 20,
   "metadata": {},
   "outputs": [
    {
     "name": "stdout",
     "output_type": "stream",
     "text": [
      "Bizagi Modeler.lnk\n",
      "Blitz-1.17.38.exe\n",
      "Blitz.lnk\n",
      "CrystalDiskInfo.lnk\n",
      "cs go.txt\n",
      "DEInven Online.ps1\n",
      "DEInvent 2 Вывод данных Лучший вариант 11.05.2022.ps1\n",
      "DEInvent 2 Вывод данных Лучший вариант.ps1\n",
      "DEInvent 2 Вывод данных.ps1\n",
      "DEInvent 2 Поиск по учетной записи.ps1\n",
      "DEInvent 2.exe\n",
      "DEInvent 2.ps1\n",
      "DEInvent 2.txt\n",
      "DEInvent2\n",
      "desktop.ini\n",
      "Fall Guys Ultimate Knockout.url\n",
      "get-pdf (1).pdf\n",
      "get-pdf.pdf\n",
      "git-2-homeworks-merge\n",
      "MarketApp.lnk\n",
      "Microsoft Edge.lnk\n",
      "mod\n",
      "mod MaB2\n",
      "NeuroStartUp\n",
      "Python\n",
      "Riot Client.lnk\n",
      "Rockstar Games Launcher.lnk\n",
      "SpeedFan.lnk\n",
      "test\n",
      "Text Document.txt\n",
      "Untitled-1.py\n",
      "uTorrent Web.lnk\n",
      "Wallpaper Engine.url\n",
      "workspace.py.code-workspace\n",
      "Катины штучки делишки\n",
      "московский метрополитен.lnk\n",
      "Программирование\n",
      "Термины в программировании.DOCX\n"
     ]
    },
    {
     "data": {
      "text/plain": [
       "'Desktop'"
      ]
     },
     "execution_count": 20,
     "metadata": {},
     "output_type": "execute_result"
    }
   ],
   "source": [
    "from pathlib import Path\n",
    "\n",
    "local_files_path = Path('C:/Users/HOME/Desktop')\n",
    "for local_file in local_files_path.iterdir():\n",
    "    print(local_file.name)\n",
    "local_files_path.stem\n"
   ]
  },
  {
   "cell_type": "code",
   "execution_count": 22,
   "metadata": {},
   "outputs": [],
   "source": [
    "def get_files_list(path: str, pattern: str = './*.*') -> list:\n",
    "    \"\"\"\n",
    "    Получает список файлов по указанным пути и шаблону имени\n",
    "    \"\"\"\n",
    "    path_ = Path(path)\n",
    "    files = []\n",
    "    if path_.is_dir():\n",
    "        files = list(path_.glob(pattern))\n",
    "    elif path_.is_file():\n",
    "        files = [path_]\n",
    "    else:\n",
    "        raise RuntimeError(f'Путь должен указывать на папку или файл ({path_.as_posix()})')\n",
    "\n",
    "    return files"
   ]
  },
  {
   "cell_type": "code",
   "execution_count": 30,
   "metadata": {},
   "outputs": [],
   "source": [
    "for name in get_files_list('C:/Users/HOME/Desktop', pattern='./*.txt'): \n",
    "    print(name.as_posix())\n"
   ]
  }
 ],
 "metadata": {
  "kernelspec": {
   "display_name": "Python 3.10.7 ('dev')",
   "language": "python",
   "name": "python3"
  },
  "language_info": {
   "codemirror_mode": {
    "name": "ipython",
    "version": 3
   },
   "file_extension": ".py",
   "mimetype": "text/x-python",
   "name": "python",
   "nbconvert_exporter": "python",
   "pygments_lexer": "ipython3",
   "version": "3.10.7"
  },
  "orig_nbformat": 4,
  "vscode": {
   "interpreter": {
    "hash": "abd07532a435ca995674aa39c6a2e488a782b99a3dd67b36a079c1bff65afd6d"
   }
  }
 },
 "nbformat": 4,
 "nbformat_minor": 2
}
